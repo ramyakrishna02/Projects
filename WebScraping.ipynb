{
  "nbformat": 4,
  "nbformat_minor": 0,
  "metadata": {
    "colab": {
      "name": "WebScraping.ipynb",
      "provenance": [],
      "collapsed_sections": [],
      "authorship_tag": "ABX9TyNWC23dqpFF2fTZpgaNJQuh",
      "include_colab_link": true
    },
    "kernelspec": {
      "name": "python3",
      "display_name": "Python 3"
    }
  },
  "cells": [
    {
      "cell_type": "markdown",
      "metadata": {
        "id": "view-in-github",
        "colab_type": "text"
      },
      "source": [
        "<a href=\"https://colab.research.google.com/github/ramyakrishna02/Projects/blob/main/WebScraping.ipynb\" target=\"_parent\"><img src=\"https://colab.research.google.com/assets/colab-badge.svg\" alt=\"Open In Colab\"/></a>"
      ]
    },
    {
      "cell_type": "code",
      "metadata": {
        "id": "_JByxptt-YhI"
      },
      "source": [
        "import requests\r\n",
        "from bs4 import BeautifulSoup\r\n",
        "import time\r\n",
        "from IPython.display import clear_output\r\n",
        "base_url = 'https://www.makaan.com/hyderabad-residential-property/buy-property-in-hyderabad-city?page='"
      ],
      "execution_count": 1,
      "outputs": []
    },
    {
      "cell_type": "code",
      "metadata": {
        "id": "cIbMzpPmM50Y"
      },
      "source": [
        "def seller_inf(soup):\r\n",
        "  ''' Function for scraping seller information\r\n",
        "  Arguments : soup - soup object from Beautifulsoup\r\n",
        "  Returns : seller info\r\n",
        "  '''\r\n",
        "  s_inf = soup.find_all('span',attrs={'class':'seller-type'})\r\n",
        "  s_info = [s.text for s in s_inf]\r\n",
        "  return s_info\r\n",
        "\r\n",
        "def bhk_no_inf(soup):\r\n",
        "  no1 = soup.find_all('a',attrs={'data-type':\"listing-link\"})\r\n",
        "  num = [no.span.text.strip() for no in no1]\r\n",
        "  return num\r\n",
        "\r\n",
        "def price_inf(soup):\r\n",
        "  p = soup.find_all('div',attrs={'data-type':\"price-link\"})\r\n",
        "  price_ = [pr.text for pr in p]\r\n",
        "  return price_\r\n",
        "\r\n",
        "def address_inf(soup):\r\n",
        "  add = soup.find_all('span',attrs={'itemprop':\"addressLocality\"})\r\n",
        "  address = [ad.text for ad in add]\r\n",
        "  return address\r\n",
        "\r\n",
        "def area_inf(soup):\r\n",
        "  sz = soup.find_all('td',attrs={'class':\"size\"})\r\n",
        "  area = [s.text for s in sz]\r\n",
        "  return area\r\n",
        "\r\n",
        "def area_sqft_inf(soup):\r\n",
        "  ft = soup.find_all('td',attrs={'class':'lbl rate'})\r\n",
        "  feet = [f.text for f in ft]\r\n",
        "  return feet\r\n",
        "\r\n",
        "def status_inf(soup):\r\n",
        "  tx = soup.find_all('td',attrs={'class':\"val\"})\r\n",
        "  text = [t.text for t in tx]\r\n",
        "  return text\r\n",
        "\r\n",
        "def bathrooms_inf(soup):\r\n",
        "  bt = soup.find_all('ul',attrs={'class':'listing-details'})\r\n",
        "  bath = []\r\n",
        "  for b in bt:\r\n",
        "    try:\r\n",
        "      bath.append(b.li.text.split(' ')[0])\r\n",
        "    except AttributeError:\r\n",
        "      bath.append('None')\r\n",
        "  return bath"
      ],
      "execution_count": 2,
      "outputs": []
    },
    {
      "cell_type": "code",
      "metadata": {
        "id": "jK0D8iaZNckr"
      },
      "source": [
        "def scrapedata(url,num_pages):\r\n",
        "\r\n",
        "  global base_url\r\n",
        "\r\n",
        "  seller = []\r\n",
        "  bhk = []\r\n",
        "  price = []\r\n",
        "  locality = []\r\n",
        "  area = []\r\n",
        "  area_sqft = []\r\n",
        "  status = []\r\n",
        "  bathrms = []\r\n",
        "\r\n",
        "  for i in range(1,num_pages):\r\n",
        "    time.sleep(3)\r\n",
        "    print(f'Page No : {i}')\r\n",
        "    clear_output(wait=True)\r\n",
        "\r\n",
        "    url = base_url + str(i)\r\n",
        "    request = requests.get(url)\r\n",
        "    soup = BeautifulSoup(request.content,'html')\r\n",
        "\r\n",
        "    seller1 = seller_inf(soup)\r\n",
        "    for s in seller1:\r\n",
        "      seller.append(s)\r\n",
        "\r\n",
        "    bhk1 = bhk_no_inf(soup)\r\n",
        "    for b in bhk1:\r\n",
        "      bhk.append(b)\r\n",
        "\r\n",
        "    price1 = price_inf(soup)\r\n",
        "    for p in price1:\r\n",
        "      price.append(p)\r\n",
        "\r\n",
        "    locality1 = address_inf(soup)\r\n",
        "    for l in locality1:\r\n",
        "      locality.append(l)\r\n",
        "\r\n",
        "    area1 = area_inf(soup)\r\n",
        "    for a in area1:\r\n",
        "      area.append(a)\r\n",
        "\r\n",
        "    area_sqft1 = area_sqft_inf(soup)\r\n",
        "    for sq in area_sqft1:\r\n",
        "      area_sqft.append(sq)\r\n",
        "\r\n",
        "    status1 = status_inf(soup)\r\n",
        "    for st in status1:\r\n",
        "      status.append(st)\r\n",
        "\r\n",
        "    bathrms1 = bathrooms_inf(soup)\r\n",
        "    for br in bathrms1:\r\n",
        "      bathrms.append(br)\r\n",
        "      \r\n",
        "  return seller,bhk,price,locality,area,area_sqft,status,bathrms"
      ],
      "execution_count": 3,
      "outputs": []
    },
    {
      "cell_type": "code",
      "metadata": {
        "colab": {
          "base_uri": "https://localhost:8080/"
        },
        "id": "dplDmdt1xtzk",
        "outputId": "52411df4-2efd-460d-9bb6-38dc77135940"
      },
      "source": [
        "seller,bhk,price,locality,area,area_sqft,status,bathrms = scrapedata(base_url,501)"
      ],
      "execution_count": 4,
      "outputs": [
        {
          "output_type": "stream",
          "text": [
            "Page No : 500\n"
          ],
          "name": "stdout"
        }
      ]
    },
    {
      "cell_type": "code",
      "metadata": {
        "colab": {
          "base_uri": "https://localhost:8080/"
        },
        "id": "H22EeMvIySrd",
        "outputId": "b60589b4-48bd-4f1e-db59-ae0cfa6cea7e"
      },
      "source": [
        "print(len(seller))\r\n",
        "print(len(bhk))\r\n",
        "print(len(price))\r\n",
        "print(len(locality))\r\n",
        "print(len(area))\r\n",
        "print(len(area_sqft))\r\n",
        "print(len(status))\r\n",
        "print(len(bathrms))"
      ],
      "execution_count": 5,
      "outputs": [
        {
          "output_type": "stream",
          "text": [
            "10000\n",
            "10000\n",
            "10000\n",
            "10000\n",
            "10000\n",
            "10000\n",
            "10000\n",
            "10000\n"
          ],
          "name": "stdout"
        }
      ]
    },
    {
      "cell_type": "code",
      "metadata": {
        "id": "zycN3SYW9sn0",
        "colab": {
          "base_uri": "https://localhost:8080/",
          "height": 519
        },
        "outputId": "14e791f6-0375-4247-9610-f20479611773"
      },
      "source": [
        "import pandas as pd\r\n",
        "data = pd.DataFrame({'Seller_info':seller,'No_BHK':bhk,'Price':price,'Locality':locality,'Area':area,'Area_sqft':area_sqft,'Construction_status':status,'Bathrooms':bathrms})\r\n",
        "data"
      ],
      "execution_count": 6,
      "outputs": [
        {
          "output_type": "execute_result",
          "data": {
            "text/html": [
              "<div>\n",
              "<style scoped>\n",
              "    .dataframe tbody tr th:only-of-type {\n",
              "        vertical-align: middle;\n",
              "    }\n",
              "\n",
              "    .dataframe tbody tr th {\n",
              "        vertical-align: top;\n",
              "    }\n",
              "\n",
              "    .dataframe thead th {\n",
              "        text-align: right;\n",
              "    }\n",
              "</style>\n",
              "<table border=\"1\" class=\"dataframe\">\n",
              "  <thead>\n",
              "    <tr style=\"text-align: right;\">\n",
              "      <th></th>\n",
              "      <th>Seller_info</th>\n",
              "      <th>No_BHK</th>\n",
              "      <th>Price</th>\n",
              "      <th>Locality</th>\n",
              "      <th>Area</th>\n",
              "      <th>Area_sqft</th>\n",
              "      <th>Construction_status</th>\n",
              "      <th>Bathrooms</th>\n",
              "    </tr>\n",
              "  </thead>\n",
              "  <tbody>\n",
              "    <tr>\n",
              "      <th>0</th>\n",
              "      <td>BUILDER</td>\n",
              "      <td>3</td>\n",
              "      <td>1.69 Cr</td>\n",
              "      <td>Yapral</td>\n",
              "      <td>2950</td>\n",
              "      <td>5,756 / sq ft</td>\n",
              "      <td>Under Construction</td>\n",
              "      <td>Possession</td>\n",
              "    </tr>\n",
              "    <tr>\n",
              "      <th>1</th>\n",
              "      <td>BUILDER</td>\n",
              "      <td>Residential Plot</td>\n",
              "      <td>32.29 L</td>\n",
              "      <td>Maheshwaram</td>\n",
              "      <td>1938</td>\n",
              "      <td>1,667 / sq ft</td>\n",
              "      <td>New</td>\n",
              "      <td>Possession</td>\n",
              "    </tr>\n",
              "    <tr>\n",
              "      <th>2</th>\n",
              "      <td>BUILDER</td>\n",
              "      <td>3</td>\n",
              "      <td>88.03 L</td>\n",
              "      <td>Kompally</td>\n",
              "      <td>1834</td>\n",
              "      <td>4,800 / sq ft</td>\n",
              "      <td>Under Construction</td>\n",
              "      <td>Possession</td>\n",
              "    </tr>\n",
              "    <tr>\n",
              "      <th>3</th>\n",
              "      <td>AGENT</td>\n",
              "      <td>Residential Plot</td>\n",
              "      <td>22 L</td>\n",
              "      <td>Sangareddy</td>\n",
              "      <td>1800</td>\n",
              "      <td>1,222 / sq ft</td>\n",
              "      <td>New</td>\n",
              "      <td>1</td>\n",
              "    </tr>\n",
              "    <tr>\n",
              "      <th>4</th>\n",
              "      <td>BUILDER</td>\n",
              "      <td>2</td>\n",
              "      <td>61.57 L</td>\n",
              "      <td>Kompally</td>\n",
              "      <td>1310</td>\n",
              "      <td>4,700 / sq ft</td>\n",
              "      <td>Under Construction</td>\n",
              "      <td>Possession</td>\n",
              "    </tr>\n",
              "    <tr>\n",
              "      <th>...</th>\n",
              "      <td>...</td>\n",
              "      <td>...</td>\n",
              "      <td>...</td>\n",
              "      <td>...</td>\n",
              "      <td>...</td>\n",
              "      <td>...</td>\n",
              "      <td>...</td>\n",
              "      <td>...</td>\n",
              "    </tr>\n",
              "    <tr>\n",
              "      <th>9995</th>\n",
              "      <td>AGENT</td>\n",
              "      <td>Residential Plot</td>\n",
              "      <td>25.05 L</td>\n",
              "      <td>Shankarpally Road</td>\n",
              "      <td>1503</td>\n",
              "      <td>1,666 / sq ft</td>\n",
              "      <td>New</td>\n",
              "      <td>3</td>\n",
              "    </tr>\n",
              "    <tr>\n",
              "      <th>9996</th>\n",
              "      <td>AGENT</td>\n",
              "      <td>Residential Plot</td>\n",
              "      <td>31.08 L</td>\n",
              "      <td>Maheshwaram</td>\n",
              "      <td>222</td>\n",
              "      <td>14,000 / sq ft</td>\n",
              "      <td>New</td>\n",
              "      <td>121</td>\n",
              "    </tr>\n",
              "    <tr>\n",
              "      <th>9997</th>\n",
              "      <td>AGENT</td>\n",
              "      <td>Residential Plot</td>\n",
              "      <td>29 L</td>\n",
              "      <td>Keesara</td>\n",
              "      <td>1800</td>\n",
              "      <td>1,611 / sq ft</td>\n",
              "      <td>New</td>\n",
              "      <td>121</td>\n",
              "    </tr>\n",
              "    <tr>\n",
              "      <th>9998</th>\n",
              "      <td>AGENT</td>\n",
              "      <td>Residential Plot</td>\n",
              "      <td>36.25 L</td>\n",
              "      <td>Keesara</td>\n",
              "      <td>2250</td>\n",
              "      <td>1,611 / sq ft</td>\n",
              "      <td>New</td>\n",
              "      <td>121</td>\n",
              "    </tr>\n",
              "    <tr>\n",
              "      <th>9999</th>\n",
              "      <td>AGENT</td>\n",
              "      <td>Residential Plot</td>\n",
              "      <td>13 L</td>\n",
              "      <td>Ghatkesar</td>\n",
              "      <td>1800</td>\n",
              "      <td>722 / sq ft</td>\n",
              "      <td>New</td>\n",
              "      <td>121</td>\n",
              "    </tr>\n",
              "  </tbody>\n",
              "</table>\n",
              "<p>10000 rows × 8 columns</p>\n",
              "</div>"
            ],
            "text/plain": [
              "     Seller_info            No_BHK  ... Construction_status   Bathrooms\n",
              "0        BUILDER                 3  ...  Under Construction  Possession\n",
              "1        BUILDER  Residential Plot  ...                 New  Possession\n",
              "2        BUILDER                 3  ...  Under Construction  Possession\n",
              "3          AGENT  Residential Plot  ...                 New           1\n",
              "4        BUILDER                 2  ...  Under Construction  Possession\n",
              "...          ...               ...  ...                 ...         ...\n",
              "9995       AGENT  Residential Plot  ...                 New           3\n",
              "9996       AGENT  Residential Plot  ...                 New         121\n",
              "9997       AGENT  Residential Plot  ...                 New         121\n",
              "9998       AGENT  Residential Plot  ...                 New         121\n",
              "9999       AGENT  Residential Plot  ...                 New         121\n",
              "\n",
              "[10000 rows x 8 columns]"
            ]
          },
          "metadata": {
            "tags": []
          },
          "execution_count": 6
        }
      ]
    },
    {
      "cell_type": "code",
      "metadata": {
        "id": "6aY6cRIh9ye7"
      },
      "source": [
        "# to save the data\r\n",
        "data.to_csv('scraped_data.csv')"
      ],
      "execution_count": 7,
      "outputs": []
    },
    {
      "cell_type": "code",
      "metadata": {
        "id": "uyxiGC0wDTCn"
      },
      "source": [
        ""
      ],
      "execution_count": 7,
      "outputs": []
    }
  ]
}